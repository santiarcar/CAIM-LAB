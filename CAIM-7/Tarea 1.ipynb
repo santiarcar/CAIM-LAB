{
 "cells": [
  {
   "cell_type": "code",
   "execution_count": 28,
   "metadata": {},
   "outputs": [],
   "source": [
    "from igraph import Graph\n",
    "import numpy as np\n",
    "import matplotlib.pyplot as plt\n",
    "from IPython import display\n",
    "from igraph import plot\n"
   ]
  },
  {
   "cell_type": "markdown",
   "metadata": {},
   "source": [
    "primero de todo crearemos los valores de P en escala logarítmica de 10^4 a 1 tal cual el ejemplo de los apuntes explicados en clase. con cada intervalo calcularemos el shortest-path y el clustering-coefficient. Para acabar normalizamos los resultados dividiendolo por el punto más a la izquieda."
   ]
  },
  {
   "cell_type": "code",
   "execution_count": 47,
   "metadata": {},
   "outputs": [
    {
     "data": {
      "image/png": "[encoded data removed]",
      "text/plain": [
       "<Figure size 432x288 with 1 Axes>"
      ]
     },
     "metadata": {
      "needs_background": "light"
     },
     "output_type": "display_data"
    }
   ],
   "source": [
    "plist = [10**-i for i in np.linspace(start=4,stop=0,num=20)]\n",
    "shorterPaht = np.zeros(20,dtype = float)\n",
    "coeffClust  = np.zeros(20,dtype = float)\n",
    "\n",
    "for i, p in enumerate(plist):\n",
    "    g = Graph.Watts_Strogatz(1,1000,2,p)\n",
    "    shorterPaht[i] = g.average_path_length()\n",
    "    coeffClust[i]  = g.transitivity_undirected()\n",
    "    \n",
    "shorterPaht = (shorterPaht/shorterPaht[0]).tolist()\n",
    "coeffClust  = (coeffClust/coeffClust[0]).tolist()\n",
    "\n",
    "#creamos y guardamos el plot\n",
    "plt.xlabel('P')\n",
    "plt.semilogx(plist, shorterPaht, 'o', label='L(p)/L(0)')\n",
    "plt.semilogx(plist, coeffClust, 's', label='C(p)/C(0)')\n",
    "plt.legend()\n",
    "\n",
    "plt.savefig('tarea1.png', dpi=200)\n"
   ]
  },
  {
   "cell_type": "code",
   "execution_count": null,
   "metadata": {},
   "outputs": [],
   "source": []
  }
 ],
 "metadata": {
  "kernelspec": {
   "display_name": "Python 3",
   "language": "python",
   "name": "python3"
  },
  "language_info": {
   "codemirror_mode": {
    "name": "ipython",
    "version": 3
   },
   "file_extension": ".py",
   "mimetype": "text/x-python",
   "name": "python",
   "nbconvert_exporter": "python",
   "pygments_lexer": "ipython3",
   "version": "3.8.10"
  }
 },
 "nbformat": 4,
 "nbformat_minor": 4
}
