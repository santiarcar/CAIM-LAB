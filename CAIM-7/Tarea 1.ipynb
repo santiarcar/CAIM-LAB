{
 "cells": [
  {
   "cell_type": "code",
   "execution_count": null,
   "metadata": {},
   "outputs": [],
   "source": [
    "from igraph import Graph\n",
    "import numpy as np\n",
    "import matplotlib.pyplot as plt\n",
    "from IPython import display\n",
    "from igraph import plot\n"
   ]
  },
  {
   "cell_type": "markdown",
   "metadata": {},
   "source": [
    "primero de todo crearemos los valores de P en escala logarítmica de 10^4 a 1 tal cual el ejemplo de los apuntes explicados en clase. con cada intervalo calcularemos el shortest-path y el clustering-coefficient. Para acabar normalizamos los resultados dividiendolo por el punto más a la izquierda."
   ]
  },
  {
   "cell_type": "code",
   "execution_count": null,
   "metadata": {},
   "outputs": [],
   "source": [
    "plist = [10**-i for i in np.linspace(start=4,stop=0,num=20)]\n",
    "shorterPath = []\n",
    "coeffClust  = []\n",
    "\n",
    "shorterPathNormalizer = 0\n",
    "coeffClustNormalizer = 0\n",
    "\n",
    "for i in range(plist.__len__()):\n",
    "    g = Graph.Watts_Strogatz(1, 1000, 2, plist[i])\n",
    "    shorterPathElem = g.average_path_length()\n",
    "    coeffClustElem = g.transitivity_undirected()\n",
    "\n",
    "    if (i == 0):\n",
    "        shorterPathNormalizer = shorterPathElem\n",
    "\n",
    "        coeffClustNormalizer = coeffClustElem\n",
    "\n",
    "    shorterPath.append(shorterPathElem / shorterPathNormalizer)\n",
    "    coeffClust.append(coeffClustElem / coeffClustNormalizer)\n",
    "\n",
    "print(shorterPath)\n",
    "print(coeffClust)"
   ]
  },
  {
   "cell_type": "code",
   "execution_count": null,
   "outputs": [],
   "source": [
    "#creamos y guardamos el plot\n",
    "plt.xlabel('P')\n",
    "plt.semilogx(plist, shorterPath, 'o', label='L(p)/L(0)')\n",
    "plt.semilogx(plist, coeffClust, 's', label='C(p)/C(0)')\n",
    "plt.xlim(0.0001, 1)\n",
    "plt.ylim(0, 1.05)\n",
    "plt.legend()\n"
   ],
   "metadata": {
    "collapsed": false,
    "pycharm": {
     "name": "#%%\n"
    }
   }
  },
  {
   "cell_type": "code",
   "execution_count": null,
   "outputs": [],
   "source": [
    "plt.savefig('tarea1.png', dpi=200)\n",
    "\n"
   ],
   "metadata": {
    "collapsed": false,
    "pycharm": {
     "name": "#%%\n"
    }
   }
  }
 ],
 "metadata": {
  "kernelspec": {
   "display_name": "Python 3",
   "language": "python",
   "name": "python3"
  },
  "language_info": {
   "codemirror_mode": {
    "name": "ipython",
    "version": 3
   },
   "file_extension": ".py",
   "mimetype": "text/x-python",
   "name": "python",
   "nbconvert_exporter": "python",
   "pygments_lexer": "ipython3",
   "version": "3.8.10"
  }
 },
 "nbformat": 4,
 "nbformat_minor": 4
}