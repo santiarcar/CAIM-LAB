{
 "cells": [
  {
   "cell_type": "code",
   "execution_count": null,
   "metadata": {},
   "outputs": [],
   "source": [
    "from igraph import Graph\n",
    "from igraph import plot\n",
    "from IPython import display\n",
    "import matplotlib.pyplot as plt"
   ]
  },
  {
   "cell_type": "code",
   "execution_count": null,
   "metadata": {},
   "outputs": [],
   "source": []
  },
  {
   "cell_type": "markdown",
   "metadata": {},
   "source": [
    "Leemos el grafo y lo imprimimos"
   ]
  },
  {
   "cell_type": "code",
   "execution_count": null,
   "metadata": {},
   "outputs": [],
   "source": [
    "g = Graph(directed=False)\n",
    "g = g.Load('edges.txt', format='edgelist', directed=False)\n",
    "r = plot(g, layout = g.layout_kamada_kawai(),target=\"caimlab-graph.png\")\n",
    "display.Image(filename=\"caimlab-graph.png\")"
   ]
  },
  {
   "cell_type": "code",
   "execution_count": null,
   "metadata": {},
   "outputs": [],
   "source": [
    "#Calculamos los primeros datos básicos de la red.\n",
    "print('La red tiene {0} nodos'.format(g.vcount()))\n",
    "print('La red tiene {0} aristas'.format(g.ecount()))\n",
    "print('La red tiene  un diametro de {0}.'.format(g.diameter()))\n",
    "print('El clustering coefficient del grafo es de {0:.2f}'.format(g.transitivity_undirected()))"
   ]
  },
  {
   "cell_type": "code",
   "execution_count": null,
   "metadata": {},
   "outputs": [],
   "source": [
    "#Printeamos la Degree distribution\n",
    "plt.title('Distribución de grados')\n",
    "plt.xlabel('Grado')\n",
    "plt.ylabel('Número de nodos')\n",
    "r = plt.hist(g.degree(), bins=max(g.degree()))\n",
    "plt.savefig('degree_distr.png', dpi=200)"
   ]
  },
  {
   "cell_type": "code",
   "execution_count": null,
   "outputs": [],
   "source": [
    "print(g.degree_distribution())"
   ],
   "metadata": {
    "collapsed": false,
    "pycharm": {
     "name": "#%%\n"
    }
   }
  },
  {
   "cell_type": "code",
   "execution_count": null,
   "metadata": {},
   "outputs": [],
   "source": [
    "#caluclamos el pageRank\n",
    "\n",
    "pg = g.pagerank()\n",
    "pg = [x*1000 for x in pg]\n",
    "ppg = plot(g, layout=g.layout_kamada_kawai(), target='pageRank.png', vertex_size=pg)\n",
    "display.Image(filename='pageRank.png')"
   ]
  },
  {
   "cell_type": "code",
   "execution_count": null,
   "metadata": {},
   "outputs": [],
   "source": [
    "#Caluclamos la comunity\n",
    "com = g.community_edge_betweenness()\n",
    "r = plot(com,target=\"community.png\", orientation='bottom-top')\n",
    "print ('Clusters:', com.optimal_count) # Optimal number of clusters from the dendrogram\n",
    "display.Image(filename=\"community.png\")\n"
   ]
  },
  {
   "cell_type": "code",
   "execution_count": null,
   "metadata": {},
   "outputs": [],
   "source": [
    "#grupo con más nodos\n",
    "grupos = r = plot(com.as_clustering(), layout = g.layout_kamada_kawai(),target=\"com-erdos.png\",mark_groups=True)\n",
    "display.Image(filename=\"com-erdos.png\")"
   ]
  },
  {
   "cell_type": "code",
   "execution_count": null,
   "metadata": {},
   "outputs": [],
   "source": [
    "#Miramos el histograma de los grupos y el grupo con más nodos\n",
    "grupos = com.as_clustering()\n",
    "Max = max(len(minigrupo) for minigrupo in grupos)\n",
    "\n",
    "plt.title('Tamaño grupos')\n",
    "plt.xlabel('Grupos')\n",
    "plt.ylabel('Número de nodos')\n",
    "r = plt.bar(range(len(grupos)), [len(i) for i in grupos], align='center')"
   ]
  },
  {
   "cell_type": "code",
   "execution_count": null,
   "metadata": {},
   "outputs": [],
   "source": []
  }
 ],
 "metadata": {
  "kernelspec": {
   "display_name": "Python 3",
   "language": "python",
   "name": "python3"
  },
  "language_info": {
   "codemirror_mode": {
    "name": "ipython",
    "version": 3
   },
   "file_extension": ".py",
   "mimetype": "text/x-python",
   "name": "python",
   "nbconvert_exporter": "python",
   "pygments_lexer": "ipython3",
   "version": "3.8.10"
  }
 },
 "nbformat": 4,
 "nbformat_minor": 4
}