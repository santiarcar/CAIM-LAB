{
 "cells": [
  {
   "cell_type": "code",
   "execution_count": null,
   "metadata": {
    "ExecuteTime": {
     "end_time": "2020-12-10T05:46:13.157596Z",
     "start_time": "2020-12-10T05:46:13.155212Z"
    }
   },
   "outputs": [],
   "source": [
    "# Uncomment to run in google colab\n",
    "#!sudo apt-get install libcairo2-dev\n",
    "#!pip install python-igraph --quiet\n",
    "#!pip install pycairo --quiet"
   ]
  },
  {
   "cell_type": "markdown",
   "metadata": {},
   "source": [
    "# Session 7 - iGraph"
   ]
  },
  {
   "cell_type": "markdown",
   "metadata": {},
   "source": [
    "This notebook is for using the python bindings for iGraph, if you prefer R (ugh!) or even C/C++ (OMG!) refer to the corresponding documentation.\n",
    "\n",
    "If you want to install python-igraph on windows or mac you should follow the documentation instructions http://igraph.org/python/#startpy\n",
    "\n",
    "To generate scalable vector graphs (SVG) with the plot methods you need *pycairo* (it is not instalable using pip, you have to download it from http://cairographics.org/pycairo/) and the library *cairo* has to be installed in your linux). We will avoid using pycairo generating png files instead.\n",
    "\n",
    "In this notebook it is also used numpy and matplotlib, they also can be installed using pip\n",
    "\n",
    "Apart from this notebook, the tutorial for iGraph is a good starting point http://igraph.org/python/doc/tutorial/tutorial.html"
   ]
  },
  {
   "cell_type": "code",
   "execution_count": 3,
   "metadata": {
    "ExecuteTime": {
     "end_time": "2020-12-10T05:46:14.533119Z",
     "start_time": "2020-12-10T05:46:13.213612Z"
    }
   },
   "outputs": [],
   "source": [
    "from igraph import Graph"
   ]
  },
  {
   "cell_type": "markdown",
   "metadata": {},
   "source": [
    "Creating a graph is simple, this is an **empty** graph (print returns a representation of the graph)"
   ]
  },
  {
   "cell_type": "code",
   "execution_count": null,
   "metadata": {
    "ExecuteTime": {
     "end_time": "2020-12-10T05:46:15.444652Z",
     "start_time": "2020-12-10T05:46:14.534704Z"
    }
   },
   "outputs": [],
   "source": [
    "g = Graph()\n",
    "print(g)"
   ]
  },
  {
   "cell_type": "markdown",
   "metadata": {},
   "source": [
    "We can add vertices like for example, vertices from [0..3]"
   ]
  },
  {
   "cell_type": "code",
   "execution_count": null,
   "metadata": {
    "ExecuteTime": {
     "end_time": "2020-12-10T05:46:15.453558Z",
     "start_time": "2020-12-10T05:46:15.450378Z"
    }
   },
   "outputs": [],
   "source": [
    "g.add_vertices(4)\n",
    "print(g)"
   ]
  },
  {
   "cell_type": "markdown",
   "metadata": {},
   "source": [
    "and some edges among them (as a list of pairs)"
   ]
  },
  {
   "cell_type": "code",
   "execution_count": null,
   "metadata": {
    "ExecuteTime": {
     "end_time": "2020-12-10T05:46:15.586425Z",
     "start_time": "2020-12-10T05:46:15.456728Z"
    }
   },
   "outputs": [],
   "source": [
    "g.add_edges([(1,2), (1,3), (2,3), (3, 0)])\n",
    "print(g)"
   ]
  },
  {
   "cell_type": "markdown",
   "metadata": {},
   "source": [
    "Class Graph provides a couple of iterators to traverse the vertices (**vs**) and the edges (**es**)"
   ]
  },
  {
   "cell_type": "code",
   "execution_count": null,
   "metadata": {
    "ExecuteTime": {
     "end_time": "2020-12-10T05:46:15.711399Z",
     "start_time": "2020-12-10T05:46:15.588568Z"
    }
   },
   "outputs": [],
   "source": [
    "for v in g.vs:\n",
    "    print(v)"
   ]
  },
  {
   "cell_type": "code",
   "execution_count": null,
   "metadata": {
    "ExecuteTime": {
     "end_time": "2020-12-10T05:46:15.810946Z",
     "start_time": "2020-12-10T05:46:15.712515Z"
    }
   },
   "outputs": [],
   "source": [
    "for e in g.es:\n",
    "    print(e)"
   ]
  },
  {
   "cell_type": "markdown",
   "metadata": {},
   "source": [
    "Properties can be attached to the vertices (and the edges)"
   ]
  },
  {
   "cell_type": "code",
   "execution_count": null,
   "metadata": {
    "ExecuteTime": {
     "end_time": "2020-12-10T05:46:15.911146Z",
     "start_time": "2020-12-10T05:46:15.812368Z"
    }
   },
   "outputs": [],
   "source": [
    "for i, v in enumerate(g.vs):\n",
    "    v['name'] = str(i)\n",
    "for v in g.vs:\n",
    "    print(v.attributes())"
   ]
  },
  {
   "cell_type": "code",
   "execution_count": null,
   "metadata": {
    "ExecuteTime": {
     "end_time": "2020-12-10T05:46:16.053366Z",
     "start_time": "2020-12-10T05:46:15.913731Z"
    }
   },
   "outputs": [],
   "source": [
    "import random\n",
    "for edge in g.es:\n",
    "    edge['weight'] = random.randint(1,10)\n",
    "for edge in g.es:\n",
    "    print(edge['weight'])"
   ]
  },
  {
   "cell_type": "markdown",
   "metadata": {},
   "source": [
    "Class Graph has methods to compute properties of a graph and many useful algorithms (http://igraph.org/python/doc/igraph.Graph-class.html)"
   ]
  },
  {
   "cell_type": "code",
   "execution_count": null,
   "metadata": {
    "ExecuteTime": {
     "end_time": "2020-12-10T05:46:16.214802Z",
     "start_time": "2020-12-10T05:46:16.056093Z"
    }
   },
   "outputs": [],
   "source": [
    "g.degree()"
   ]
  },
  {
   "cell_type": "code",
   "execution_count": null,
   "metadata": {
    "ExecuteTime": {
     "end_time": "2020-12-10T05:46:16.310986Z",
     "start_time": "2020-12-10T05:46:16.217558Z"
    }
   },
   "outputs": [],
   "source": [
    "g.edge_betweenness()"
   ]
  },
  {
   "cell_type": "markdown",
   "metadata": {},
   "source": [
    "Plotting the graph is a little bit more complicated because by default it uses the Cairo library (that it is not installed in the lab PCs), we can circunvent this problem by generatin a png file and loading it in the notebook. There are different styles and layouts for plotting a graph, you can look for the parameters in the documentation of the plot function in the Graph class."
   ]
  },
  {
   "cell_type": "code",
   "execution_count": 9,
   "metadata": {
    "ExecuteTime": {
     "end_time": "2020-12-10T05:46:16.463726Z",
     "start_time": "2020-12-10T05:46:16.313265Z"
    }
   },
   "outputs": [
    {
     "ename": "NameError",
     "evalue": "name 'g' is not defined",
     "output_type": "error",
     "traceback": [
      "\u001b[0;31m---------------------------------------------------------------------------\u001b[0m",
      "\u001b[0;31mNameError\u001b[0m                                 Traceback (most recent call last)",
      "\u001b[0;32m<ipython-input-9-6ff62058f5cc>\u001b[0m in \u001b[0;36m<module>\u001b[0;34m\u001b[0m\n\u001b[1;32m      2\u001b[0m \u001b[0;32mfrom\u001b[0m \u001b[0migraph\u001b[0m \u001b[0;32mimport\u001b[0m \u001b[0mplot\u001b[0m\u001b[0;34m\u001b[0m\u001b[0;34m\u001b[0m\u001b[0m\n\u001b[1;32m      3\u001b[0m \u001b[0;34m\u001b[0m\u001b[0m\n\u001b[0;32m----> 4\u001b[0;31m \u001b[0mg\u001b[0m\u001b[0;34m.\u001b[0m\u001b[0mvs\u001b[0m\u001b[0;34m[\u001b[0m\u001b[0;34m'label'\u001b[0m\u001b[0;34m]\u001b[0m \u001b[0;34m=\u001b[0m \u001b[0mg\u001b[0m\u001b[0;34m.\u001b[0m\u001b[0mvs\u001b[0m\u001b[0;34m[\u001b[0m\u001b[0;34m'name'\u001b[0m\u001b[0;34m]\u001b[0m\u001b[0;34m\u001b[0m\u001b[0;34m\u001b[0m\u001b[0m\n\u001b[0m\u001b[1;32m      5\u001b[0m \u001b[0mg\u001b[0m\u001b[0;34m.\u001b[0m\u001b[0mes\u001b[0m\u001b[0;34m[\u001b[0m\u001b[0;34m'width'\u001b[0m\u001b[0;34m]\u001b[0m \u001b[0;34m=\u001b[0m \u001b[0mg\u001b[0m\u001b[0;34m.\u001b[0m\u001b[0mes\u001b[0m\u001b[0;34m[\u001b[0m\u001b[0;34m'weight'\u001b[0m\u001b[0;34m]\u001b[0m\u001b[0;34m\u001b[0m\u001b[0;34m\u001b[0m\u001b[0m\n\u001b[1;32m      6\u001b[0m \u001b[0mplot\u001b[0m\u001b[0;34m(\u001b[0m\u001b[0mg\u001b[0m\u001b[0;34m,\u001b[0m \u001b[0mlayout\u001b[0m \u001b[0;34m=\u001b[0m \u001b[0mg\u001b[0m\u001b[0;34m.\u001b[0m\u001b[0mlayout_circle\u001b[0m\u001b[0;34m(\u001b[0m\u001b[0;34m)\u001b[0m\u001b[0;34m,\u001b[0m\u001b[0mtarget\u001b[0m\u001b[0;34m=\u001b[0m\u001b[0;34m\"./igraph_demo.png\"\u001b[0m\u001b[0;34m)\u001b[0m\u001b[0;34m\u001b[0m\u001b[0;34m\u001b[0m\u001b[0m\n",
      "\u001b[0;31mNameError\u001b[0m: name 'g' is not defined"
     ]
    }
   ],
   "source": [
    "from IPython import display\n",
    "from igraph import plot\n",
    "\n",
    "g.vs['label'] = g.vs['name']\n",
    "g.es['width'] = g.es['weight']\n",
    "plot(g, layout = g.layout_circle(),target=\"./igraph_demo.png\")\n",
    "display.Image(filename=\"./igraph_demo.png\")"
   ]
  },
  {
   "cell_type": "markdown",
   "metadata": {},
   "source": [
    "## Graph Generators\n",
    "\n",
    "iGraph implements several graph generators (Erdos-Renyi, Barabasi, Watts-Strogratz, ...), different layouts have been used for plotting the graphs (you can look up in the documentation the different alternatives and parameters)"
   ]
  },
  {
   "cell_type": "code",
   "execution_count": null,
   "metadata": {
    "ExecuteTime": {
     "end_time": "2020-12-10T05:46:16.615378Z",
     "start_time": "2020-12-10T05:46:16.464977Z"
    }
   },
   "outputs": [],
   "source": [
    "erdos = Graph.Erdos_Renyi(100,0.05)\n",
    "r = plot(erdos, layout = erdos.layout_kamada_kawai(),target=\"./erdos.png\")\n",
    "display.Image(filename=\"./erdos.png\")"
   ]
  },
  {
   "cell_type": "code",
   "execution_count": null,
   "metadata": {
    "ExecuteTime": {
     "end_time": "2020-12-10T05:46:16.785049Z",
     "start_time": "2020-12-10T05:46:16.616619Z"
    }
   },
   "outputs": [],
   "source": [
    "barabasi = Graph.Barabasi(100,1)\n",
    "r = plot(barabasi, layout = barabasi.layout_fruchterman_reingold(),target=\"./barabasi.png\")\n",
    "display.Image(filename=\"./barabasi.png\")"
   ]
  },
  {
   "cell_type": "code",
   "execution_count": 4,
   "metadata": {
    "ExecuteTime": {
     "end_time": "2020-12-10T05:46:16.961379Z",
     "start_time": "2020-12-10T05:46:16.786376Z"
    }
   },
   "outputs": [
    {
     "ename": "NameError",
     "evalue": "name 'plot' is not defined",
     "output_type": "error",
     "traceback": [
      "\u001b[0;31m---------------------------------------------------------------------------\u001b[0m",
      "\u001b[0;31mNameError\u001b[0m                                 Traceback (most recent call last)",
      "\u001b[0;32m<ipython-input-4-63b25b9929d4>\u001b[0m in \u001b[0;36m<module>\u001b[0;34m\u001b[0m\n\u001b[1;32m      1\u001b[0m \u001b[0mwatts\u001b[0m \u001b[0;34m=\u001b[0m \u001b[0mGraph\u001b[0m\u001b[0;34m.\u001b[0m\u001b[0mWatts_Strogatz\u001b[0m\u001b[0;34m(\u001b[0m\u001b[0;36m1\u001b[0m\u001b[0;34m,\u001b[0m\u001b[0;36m100\u001b[0m\u001b[0;34m,\u001b[0m\u001b[0;36m2\u001b[0m\u001b[0;34m,\u001b[0m\u001b[0;36m0.05\u001b[0m\u001b[0;34m)\u001b[0m\u001b[0;34m\u001b[0m\u001b[0;34m\u001b[0m\u001b[0m\n\u001b[0;32m----> 2\u001b[0;31m \u001b[0mr\u001b[0m \u001b[0;34m=\u001b[0m \u001b[0mplot\u001b[0m\u001b[0;34m(\u001b[0m\u001b[0mwatts\u001b[0m\u001b[0;34m,\u001b[0m \u001b[0mlayout\u001b[0m \u001b[0;34m=\u001b[0m \u001b[0mwatts\u001b[0m\u001b[0;34m.\u001b[0m\u001b[0mlayout_lgl\u001b[0m\u001b[0;34m(\u001b[0m\u001b[0;34m)\u001b[0m\u001b[0;34m,\u001b[0m\u001b[0mtarget\u001b[0m\u001b[0;34m=\u001b[0m\u001b[0;34m\"./watts.png\"\u001b[0m\u001b[0;34m)\u001b[0m\u001b[0;34m\u001b[0m\u001b[0;34m\u001b[0m\u001b[0m\n\u001b[0m\u001b[1;32m      3\u001b[0m \u001b[0mdisplay\u001b[0m\u001b[0;34m.\u001b[0m\u001b[0mImage\u001b[0m\u001b[0;34m(\u001b[0m\u001b[0mfilename\u001b[0m\u001b[0;34m=\u001b[0m\u001b[0;34m\"watts.png\"\u001b[0m\u001b[0;34m)\u001b[0m\u001b[0;34m\u001b[0m\u001b[0;34m\u001b[0m\u001b[0m\n",
      "\u001b[0;31mNameError\u001b[0m: name 'plot' is not defined"
     ]
    }
   ],
   "source": [
    "watts = Graph.Watts_Strogatz(1,100,2,0.05)\n",
    "r = plot(watts, layout = watts.layout_lgl(),target=\"./watts.png\")\n",
    "display.Image(filename=\"watts.png\")"
   ]
  },
  {
   "cell_type": "markdown",
   "metadata": {},
   "source": [
    "## Measuring graphs\n",
    "\n",
    "The following cells replicates more or less what you have in the session documentation for the lattice graph"
   ]
  },
  {
   "cell_type": "code",
   "execution_count": null,
   "metadata": {
    "ExecuteTime": {
     "end_time": "2020-12-10T05:46:17.186500Z",
     "start_time": "2020-12-10T05:46:16.962773Z"
    }
   },
   "outputs": [],
   "source": [
    "lattice = Graph.Lattice([10,10])\n",
    "r = plot(lattice, layout=lattice.layout_kamada_kawai(),target=\"./lattice.png\")\n",
    "display.Image(filename=\"./lattice.png\")"
   ]
  },
  {
   "cell_type": "code",
   "execution_count": null,
   "metadata": {
    "ExecuteTime": {
     "end_time": "2020-12-10T05:46:17.311609Z",
     "start_time": "2020-12-10T05:46:17.187628Z"
    }
   },
   "outputs": [],
   "source": [
    "lattice.average_path_length()"
   ]
  },
  {
   "cell_type": "code",
   "execution_count": null,
   "metadata": {
    "ExecuteTime": {
     "end_time": "2020-12-10T05:46:17.419496Z",
     "start_time": "2020-12-10T05:46:17.313864Z"
    }
   },
   "outputs": [],
   "source": [
    "lattice.diameter()"
   ]
  },
  {
   "cell_type": "code",
   "execution_count": null,
   "metadata": {
    "ExecuteTime": {
     "end_time": "2020-12-10T05:46:17.526577Z",
     "start_time": "2020-12-10T05:46:17.422466Z"
    }
   },
   "outputs": [],
   "source": [
    "lattice.rewire_edges(0.2)"
   ]
  },
  {
   "cell_type": "code",
   "execution_count": null,
   "metadata": {
    "ExecuteTime": {
     "end_time": "2020-12-10T05:46:17.636124Z",
     "start_time": "2020-12-10T05:46:17.528838Z"
    }
   },
   "outputs": [],
   "source": [
    "lattice.average_path_length()"
   ]
  },
  {
   "cell_type": "code",
   "execution_count": null,
   "metadata": {
    "ExecuteTime": {
     "end_time": "2020-12-10T05:46:17.779410Z",
     "start_time": "2020-12-10T05:46:17.637536Z"
    }
   },
   "outputs": [],
   "source": [
    "lattice.diameter()"
   ]
  },
  {
   "cell_type": "markdown",
   "metadata": {},
   "source": [
    "The following is for the watts, erdos and ring graphs and the different measures over graphs"
   ]
  },
  {
   "cell_type": "code",
   "execution_count": null,
   "metadata": {
    "ExecuteTime": {
     "end_time": "2020-12-10T05:46:17.895051Z",
     "start_time": "2020-12-10T05:46:17.780971Z"
    }
   },
   "outputs": [],
   "source": [
    "watts.transitivity_undirected()"
   ]
  },
  {
   "cell_type": "code",
   "execution_count": null,
   "metadata": {
    "ExecuteTime": {
     "end_time": "2020-12-10T05:46:18.002669Z",
     "start_time": "2020-12-10T05:46:17.896584Z"
    }
   },
   "outputs": [],
   "source": [
    "p_hat = len(watts.es)/(len(watts.vs)*len(watts.vs)/2)\n",
    "p_hat"
   ]
  },
  {
   "cell_type": "code",
   "execution_count": null,
   "metadata": {
    "ExecuteTime": {
     "end_time": "2020-12-10T05:46:18.110455Z",
     "start_time": "2020-12-10T05:46:18.005239Z"
    }
   },
   "outputs": [],
   "source": [
    "erdos.transitivity_undirected()"
   ]
  },
  {
   "cell_type": "code",
   "execution_count": null,
   "metadata": {
    "ExecuteTime": {
     "end_time": "2020-12-10T05:46:18.237607Z",
     "start_time": "2020-12-10T05:46:18.112324Z"
    }
   },
   "outputs": [],
   "source": [
    "ring = Graph.Ring(10)\n",
    "r = plot(ring, layout=ring.layout_kamada_kawai(),target=\"./ring.png\")\n",
    "display.Image(filename=\"./ring.png\")"
   ]
  },
  {
   "cell_type": "code",
   "execution_count": null,
   "metadata": {
    "ExecuteTime": {
     "end_time": "2020-12-10T05:46:18.379223Z",
     "start_time": "2020-12-10T05:46:18.238686Z"
    }
   },
   "outputs": [],
   "source": [
    "ring.degree()"
   ]
  },
  {
   "cell_type": "code",
   "execution_count": null,
   "metadata": {
    "ExecuteTime": {
     "end_time": "2020-12-10T05:46:18.482184Z",
     "start_time": "2020-12-10T05:46:18.381310Z"
    }
   },
   "outputs": [],
   "source": [
    "barabasi = Graph.Barabasi(1000,3)\n",
    "p_hat = len(barabasi.es)/((len(barabasi.vs)-1)*len(barabasi.vs)/2.0)\n",
    "p_hat"
   ]
  },
  {
   "cell_type": "code",
   "execution_count": null,
   "metadata": {
    "ExecuteTime": {
     "end_time": "2020-12-10T05:46:18.482184Z",
     "start_time": "2020-12-10T05:46:18.381310Z"
    }
   },
   "outputs": [],
   "source": [
    "erdos = Graph.Erdos_Renyi(1000,p_hat)\n",
    "p_hat"
   ]
  },
  {
   "cell_type": "code",
   "execution_count": null,
   "metadata": {
    "ExecuteTime": {
     "end_time": "2020-12-10T05:46:18.647603Z",
     "start_time": "2020-12-10T05:46:18.484175Z"
    }
   },
   "outputs": [],
   "source": [
    "from numpy import histogram, max\n",
    "h, b = histogram(erdos.degree(), bins=max(erdos.degree()), density=True)\n",
    "print(h)\n",
    "print(b)"
   ]
  },
  {
   "cell_type": "code",
   "execution_count": null,
   "metadata": {
    "ExecuteTime": {
     "end_time": "2020-12-10T05:46:20.386009Z",
     "start_time": "2020-12-10T05:46:18.649613Z"
    }
   },
   "outputs": [],
   "source": [
    "import matplotlib.pyplot as plt\n",
    "%matplotlib inline\n",
    "r = plt.hist(erdos.degree(), bins=max(erdos.degree()))"
   ]
  },
  {
   "cell_type": "code",
   "execution_count": null,
   "metadata": {
    "ExecuteTime": {
     "end_time": "2020-12-10T05:46:20.504072Z",
     "start_time": "2020-12-10T05:46:20.387655Z"
    }
   },
   "outputs": [],
   "source": [
    "r = plt.plot(b[1:], h, 'o' )"
   ]
  },
  {
   "cell_type": "code",
   "execution_count": null,
   "metadata": {
    "ExecuteTime": {
     "end_time": "2020-12-10T05:46:20.715575Z",
     "start_time": "2020-12-10T05:46:20.505176Z"
    }
   },
   "outputs": [],
   "source": [
    "r = plt.hist(barabasi.degree(), bins=max(barabasi.degree()))"
   ]
  },
  {
   "cell_type": "code",
   "execution_count": null,
   "metadata": {
    "ExecuteTime": {
     "end_time": "2020-12-10T05:46:20.874478Z",
     "start_time": "2020-12-10T05:46:20.717214Z"
    }
   },
   "outputs": [],
   "source": [
    "h, b = histogram(barabasi.degree(), bins=max(barabasi.degree()), density=True)\n",
    "r = plt.plot(b[1:], h, 'o' )"
   ]
  },
  {
   "cell_type": "markdown",
   "metadata": {},
   "source": [
    "## Communities\n",
    "\n",
    "This follows the part about social graphs measures and comunity detection.\n",
    "\n",
    "First we creeate a graph following the Erdos-Reny model"
   ]
  },
  {
   "cell_type": "code",
   "execution_count": null,
   "metadata": {
    "ExecuteTime": {
     "end_time": "2020-12-10T05:46:20.915298Z",
     "start_time": "2020-12-10T05:46:20.875802Z"
    }
   },
   "outputs": [],
   "source": [
    "from igraph import plot\n",
    "erdos = Graph.Erdos_Renyi(20,0.2)\n",
    "\n",
    "r = plot(erdos, layout = erdos.layout_kamada_kawai(),target=\"./erdos.png\")\n",
    "display.Image(filename=\"./erdos.png\")"
   ]
  },
  {
   "cell_type": "markdown",
   "metadata": {},
   "source": [
    "We can measure vertices **betweenness**"
   ]
  },
  {
   "cell_type": "code",
   "execution_count": null,
   "metadata": {
    "ExecuteTime": {
     "end_time": "2020-12-10T05:46:21.067078Z",
     "start_time": "2020-12-10T05:46:20.917112Z"
    }
   },
   "outputs": [],
   "source": [
    "erdos.betweenness()"
   ]
  },
  {
   "cell_type": "markdown",
   "metadata": {},
   "source": [
    "Vertices **degree**"
   ]
  },
  {
   "cell_type": "code",
   "execution_count": null,
   "metadata": {
    "ExecuteTime": {
     "end_time": "2020-12-10T05:46:21.237633Z",
     "start_time": "2020-12-10T05:46:21.068851Z"
    }
   },
   "outputs": [],
   "source": [
    "erdos.degree()"
   ]
  },
  {
   "cell_type": "markdown",
   "metadata": {},
   "source": [
    "Vertices **closeness**"
   ]
  },
  {
   "cell_type": "code",
   "execution_count": null,
   "metadata": {
    "ExecuteTime": {
     "end_time": "2020-12-10T05:46:21.380200Z",
     "start_time": "2020-12-10T05:46:21.239419Z"
    }
   },
   "outputs": [],
   "source": [
    "erdos.closeness()"
   ]
  },
  {
   "cell_type": "markdown",
   "metadata": {},
   "source": [
    "nodes **pagerank**"
   ]
  },
  {
   "cell_type": "code",
   "execution_count": null,
   "metadata": {
    "ExecuteTime": {
     "end_time": "2020-12-10T05:46:21.909319Z",
     "start_time": "2020-12-10T05:46:21.381918Z"
    }
   },
   "outputs": [],
   "source": [
    "erdos.pagerank()"
   ]
  },
  {
   "cell_type": "markdown",
   "metadata": {},
   "source": [
    "iGraph also has several community detection algorithms, you can look them up in the Graph class documentation to see how they work and how to use them.\n",
    "\n",
    "The algorithm return different objects (clusters or dendrograms) that have different methods for obtaining what you need.\n",
    "\n",
    "The method **community_edge_betweenness()** returns a dendrogram object that allows to extract the clusters. You can also plot dendrograms and clusters."
   ]
  },
  {
   "cell_type": "code",
   "execution_count": null,
   "metadata": {
    "ExecuteTime": {
     "end_time": "2020-12-10T05:46:22.233743Z",
     "start_time": "2020-12-10T05:46:21.910828Z"
    }
   },
   "outputs": [],
   "source": [
    "com = erdos.community_edge_betweenness()\n",
    "r = plot(com,target=\"./erdos-dendro.png\", orientation='bottom-top')\n",
    "print ('Clusters:', com.optimal_count) # Optimal number of clusters from the dendrogram\n",
    "display.Image(filename=\"./erdos-dendro.png\")"
   ]
  },
  {
   "cell_type": "markdown",
   "metadata": {},
   "source": [
    "the *as_clustering* method of the dendrogram object returns a graph with the clusters"
   ]
  },
  {
   "cell_type": "code",
   "execution_count": null,
   "metadata": {
    "ExecuteTime": {
     "end_time": "2020-12-10T05:46:22.428947Z",
     "start_time": "2020-12-10T05:46:22.235749Z"
    },
    "scrolled": false
   },
   "outputs": [],
   "source": [
    "r = plot(com.as_clustering(), layout = erdos.layout_kamada_kawai(),target=\"./com-erdos.png\",mark_groups=True)\n",
    "display.Image(filename=\"./com-erdos.png\")"
   ]
  },
  {
   "cell_type": "markdown",
   "metadata": {
    "collapsed": true
   },
   "source": [
    "You can also obtain the clusters and the vertices in the clusters"
   ]
  },
  {
   "cell_type": "code",
   "execution_count": null,
   "metadata": {
    "ExecuteTime": {
     "end_time": "2020-12-10T05:46:22.493934Z",
     "start_time": "2020-12-10T05:46:22.430978Z"
    }
   },
   "outputs": [],
   "source": [
    "for d in com.as_clustering():\n",
    "    print(d)"
   ]
  },
  {
   "cell_type": "markdown",
   "metadata": {},
   "source": [
    "## Social experiment\n",
    "\n",
    "You have with the session documentation the file 'caimlab.txt'. This is the graph of the laboratory 'partnerships' of the previous lab sessions.\n",
    "\n",
    "The graph has been anonymized."
   ]
  },
  {
   "cell_type": "code",
   "execution_count": null,
   "metadata": {
    "ExecuteTime": {
     "end_time": "2020-12-10T05:46:22.592784Z",
     "start_time": "2020-12-10T05:46:22.496487Z"
    }
   },
   "outputs": [],
   "source": [
    "# Uncomment to run in google colab\n",
    "#!wget https://www.cs.upc.edu/~caim/lab/session7networks.zip\n",
    "#!unzip session7networks.zip caimlab*.txt"
   ]
  },
  {
   "cell_type": "code",
   "execution_count": null,
   "metadata": {
    "ExecuteTime": {
     "end_time": "2020-12-10T05:46:22.775657Z",
     "start_time": "2020-12-10T05:46:22.594551Z"
    }
   },
   "outputs": [],
   "source": [
    "g = Graph(directed=False)\n",
    "g = g.Load('./caimlab.txt', format='edgelist', directed=False)\n",
    "r = plot(g, layout = g.layout_kamada_kawai(),target=\"./caimlab-graph.png\")\n",
    "display.Image(filename=\"./caimlab-graph.png\")"
   ]
  },
  {
   "cell_type": "markdown",
   "metadata": {},
   "source": [
    "We can compute the communities in this social graph using the edge betweenness"
   ]
  },
  {
   "cell_type": "code",
   "execution_count": null,
   "metadata": {
    "ExecuteTime": {
     "end_time": "2020-12-10T05:46:22.851857Z",
     "start_time": "2020-12-10T05:46:22.776787Z"
    },
    "code_folding": []
   },
   "outputs": [],
   "source": [
    "#clust = g.community_optimal_modularity()\n",
    "#clust = g.community_label_propagation()\n",
    "#clust = g.community_leading_eigenvector()\n",
    "#clust = g.community_infomap()\n",
    "clust = g.community_multilevel()"
   ]
  },
  {
   "cell_type": "code",
   "execution_count": null,
   "metadata": {
    "ExecuteTime": {
     "end_time": "2020-12-10T05:46:23.062710Z",
     "start_time": "2020-12-10T05:46:22.853678Z"
    }
   },
   "outputs": [],
   "source": [
    "print(clust)"
   ]
  },
  {
   "cell_type": "code",
   "execution_count": null,
   "metadata": {
    "ExecuteTime": {
     "end_time": "2020-12-10T05:46:23.283466Z",
     "start_time": "2020-12-10T05:46:23.064440Z"
    }
   },
   "outputs": [],
   "source": [
    "r = plot(clust,target=\"./caimlab-clust.png\",mark_groups=True)\n",
    "display.Image(filename=\"./caimlab-clust.png\")"
   ]
  },
  {
   "cell_type": "code",
   "execution_count": null,
   "metadata": {
    "ExecuteTime": {
     "end_time": "2020-12-10T05:46:23.380718Z",
     "start_time": "2020-12-10T05:46:23.285176Z"
    }
   },
   "outputs": [],
   "source": [
    "clust = g.community_edge_betweenness()"
   ]
  },
  {
   "cell_type": "code",
   "execution_count": null,
   "metadata": {
    "ExecuteTime": {
     "end_time": "2020-12-10T05:46:23.468575Z",
     "start_time": "2020-12-10T05:46:23.381928Z"
    }
   },
   "outputs": [],
   "source": [
    "print(clust)"
   ]
  },
  {
   "cell_type": "code",
   "execution_count": null,
   "metadata": {
    "ExecuteTime": {
     "end_time": "2020-12-10T05:46:23.586863Z",
     "start_time": "2020-12-10T05:46:23.470559Z"
    }
   },
   "outputs": [],
   "source": [
    "r = plot(clust, layout = g.layout_lgl(),target=\"./caimlab-eb-den.png\")\n",
    "display.Image(filename=\"./caimlab-eb-den.png\")"
   ]
  },
  {
   "cell_type": "code",
   "execution_count": null,
   "metadata": {
    "ExecuteTime": {
     "end_time": "2020-12-10T05:46:23.773789Z",
     "start_time": "2020-12-10T05:46:23.588729Z"
    }
   },
   "outputs": [],
   "source": [
    "clust = clust.as_clustering()\n",
    "\n",
    "r = plot(clust,target=\"./caimlab-clust.png\",mark_groups=True)\n",
    "display.Image(filename=\"./caimlab-clust.png\")"
   ]
  }
 ],
 "metadata": {
  "kernelspec": {
   "display_name": "Python 3",
   "language": "python",
   "name": "python3"
  },
  "language_info": {
   "codemirror_mode": {
    "name": "ipython",
    "version": 3
   },
   "file_extension": ".py",
   "mimetype": "text/x-python",
   "name": "python",
   "nbconvert_exporter": "python",
   "pygments_lexer": "ipython3",
   "version": "3.8.10"
  },
  "latex_envs": {
   "LaTeX_envs_menu_present": true,
   "autoclose": false,
   "autocomplete": true,
   "bibliofile": "biblio.bib",
   "cite_by": "apalike",
   "current_citInitial": 1,
   "eqLabelWithNumbers": true,
   "eqNumInitial": 1,
   "hotkeys": {
    "equation": "Ctrl-E",
    "itemize": "Ctrl-I"
   },
   "labels_anchors": false,
   "latex_user_defs": false,
   "report_style_numbering": false,
   "user_envs_cfg": false
  },
  "toc": {
   "base_numbering": 1,
   "nav_menu": {},
   "number_sections": true,
   "sideBar": true,
   "skip_h1_title": false,
   "title_cell": "Table of Contents",
   "title_sidebar": "Contents",
   "toc_cell": false,
   "toc_position": {},
   "toc_section_display": "block",
   "toc_window_display": false
  }
 },
 "nbformat": 4,
 "nbformat_minor": 1
}
